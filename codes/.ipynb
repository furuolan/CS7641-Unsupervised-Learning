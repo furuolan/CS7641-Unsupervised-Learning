{
 "cells": [
  {
   "cell_type": "code",
   "execution_count": 11,
   "metadata": {},
   "outputs": [],
   "source": [
    "import pandas as pd\n",
    "from sklearn.cluster import KMeans\n",
    "FILENAME_cost = \"/Users/Jphild/Documents/Courses/Georgia Tech/Machine Learning/Assignment 3/dataset/medicalcost/processed_medicalcost.csv\"\n",
    "FILENAME_mice = \"/Users/Jphild/Documents/Courses/Georgia Tech/Machine Learning/Assignment 3/dataset/mice protein/Data_Cortex_Nuclear.csv\"\n",
    "df_mice = pd.read_csv(FILENAME_mice)\n",
    "df_cost = pd.read_csv(FILENAME_cost)"
   ]
  },
  {
   "cell_type": "code",
   "execution_count": 13,
   "metadata": {},
   "outputs": [],
   "source": [
    "df_mice.drop(\"MouseID\", axis=1, inplace=True)"
   ]
  },
  {
   "cell_type": "code",
   "execution_count": null,
   "metadata": {},
   "outputs": [],
   "source": []
  },
  {
   "cell_type": "code",
   "execution_count": 93,
   "metadata": {},
   "outputs": [],
   "source": [
    "df_mice.describe();"
   ]
  },
  {
   "cell_type": "code",
   "execution_count": 16,
   "metadata": {},
   "outputs": [],
   "source": [
    "df_mice.drop(\"Treatment\", axis=1, inplace=True)\n",
    "df_mice.drop(\"Behavior\", axis=1, inplace=True)\n",
    "df_mice.drop(\"class\", axis=1, inplace=True)"
   ]
  },
  {
   "cell_type": "code",
   "execution_count": null,
   "metadata": {},
   "outputs": [],
   "source": []
  },
  {
   "cell_type": "code",
   "execution_count": 63,
   "metadata": {},
   "outputs": [
    {
     "name": "stdout",
     "output_type": "stream",
     "text": [
      "Dataset: medical cost\n",
      "k: 1; cost: 317696.1376059978; reduced: 0\n",
      "k: 2; cost: 116409.50754359527; reduced: 201286.63006240252\n",
      "k: 3; cost: 81296.93367858743; reduced: 35112.57386500784\n",
      "k: 4; cost: 68454.46473833194; reduced: 12842.468940255494\n",
      "k: 5; cost: 57364.97226085527; reduced: 11089.49247747667\n",
      "k: 6; cost: 47676.13678427698; reduced: 9688.835476578286\n",
      "k: 7; cost: 41281.47644950134; reduced: 6394.660334775646\n",
      "k: 8; cost: 36407.38291678962; reduced: 4874.093532711719\n",
      "k: 9; cost: 33128.85946513973; reduced: 3278.5234516498895\n",
      "k: 10; cost: 30434.428003329474; reduced: 2694.4314618102544\n"
     ]
    }
   ],
   "source": [
    "from sklearn.cluster import KMeans\n",
    "import csv\n",
    "print(\"Dataset: medical cost\")\n",
    "k_values = []\n",
    "cost_values = []\n",
    "reduced_values = []\n",
    "with open('kmin_cost.csv', 'w') as fh:\n",
    "    writer = csv.writer(fh)\n",
    "    for k in range (1, 11):\n",
    "        # Create a kmeans model on our data, using k clusters. random_state helps \n",
    "        # ensure that the algorithm returns the same results each time.\n",
    "        kmeans_model = KMeans(n_clusters=k, random_state=1).fit(df_cost.iloc[:, :11])\n",
    "        # These are our fitted labels for clusters -- the first cluster has label 0, \n",
    "        # and the second has label 1.\n",
    "        labels = kmeans_model.labels_\n",
    "        # Sum of distances of samples to their closest cluster center\n",
    "        interia = kmeans_model.inertia_\n",
    "        if k == 1:\n",
    "            reduced_cost = 0\n",
    "            last_cost = interia\n",
    "        else:\n",
    "            reduced_cost = last_cost - interia\n",
    "            last_cost = interia\n",
    "        k_values.append(k)\n",
    "        cost_values.append(interia)\n",
    "        reduced_values.append(reduced_cost)\n",
    "        print(\"k: \" + str(k) + \"; cost: \" + str(interia) + \"; reduced: \" + str(reduced_cost))\n",
    "    writer.writerow(k_values)\n",
    "    writer.writerow(cost_values)\n",
    "    writer.writerow(reduced_values)\n"
   ]
  },
  {
   "cell_type": "code",
   "execution_count": 48,
   "metadata": {
    "scrolled": true
   },
   "outputs": [
    {
     "name": "stdout",
     "output_type": "stream",
     "text": [
      "Dataset: mice proteins\n",
      "k: 1; cost: 5802.013038288892; reduced: 0\n",
      "k: 2; cost: 4217.589969963914; reduced: 1584.423068324978\n",
      "k: 3; cost: 3247.3362970408857; reduced: 970.2536729230283\n",
      "k: 4; cost: 2908.738689047208; reduced: 338.5976079936777\n",
      "k: 5; cost: 2631.0849686168767; reduced: 277.6537204303313\n",
      "k: 6; cost: 2411.3885299427943; reduced: 219.6964386740824\n",
      "k: 7; cost: 2231.8565307526856; reduced: 179.53199919010876\n",
      "k: 8; cost: 2072.0789189277443; reduced: 159.77761182494123\n",
      "k: 9; cost: 1939.5858772657887; reduced: 132.49304166195566\n",
      "k: 10; cost: 1848.54137348019; reduced: 91.04450378559864\n"
     ]
    }
   ],
   "source": [
    "print(\"Dataset: mice proteins\")\n",
    "k_values = []\n",
    "cost_values = []\n",
    "reduced_values = []\n",
    "with open('kmin_mice.csv', 'w') as fh:\n",
    "    writer = csv.writer(fh)\n",
    "    for k in range (1, 11):\n",
    "        # Create a kmeans model on our data, using k clusters. random_state helps \n",
    "        # ensure that the algorithm returns the same results each time.\n",
    "        kmeans_model = KMeans(n_clusters=k, random_state=1).fit(df_mice.iloc[:, :])\n",
    "        # These are our fitted labels for clusters -- the first cluster has label 0, \n",
    "        # and the second has label 1.\n",
    "        labels = kmeans_model.labels_\n",
    "        # Sum of distances of samples to their closest cluster center\n",
    "        interia = kmeans_model.inertia_\n",
    "        if k == 1:\n",
    "            reduced_cost = 0\n",
    "            last_cost = interia\n",
    "        else:\n",
    "            reduced_cost = last_cost - interia\n",
    "            last_cost = interia\n",
    "        k_values.append(k)\n",
    "        cost_values.append(interia)\n",
    "        reduced_values.append(reduced_cost)\n",
    "        print(\"k: \" + str(k) + \"; cost: \" + str(interia) + \"; reduced: \" + str(reduced_cost))\n",
    "    writer.writerow(k_values)\n",
    "    writer.writerow(cost_values)\n",
    "    writer.writerow(reduced_values)"
   ]
  },
  {
   "cell_type": "code",
   "execution_count": 96,
   "metadata": {},
   "outputs": [],
   "source": [
    "df_mice.dtypes;"
   ]
  },
  {
   "cell_type": "code",
   "execution_count": 26,
   "metadata": {},
   "outputs": [],
   "source": [
    "df_mice.drop(\"Genotype\", axis=1, inplace=True)"
   ]
  },
  {
   "cell_type": "code",
   "execution_count": 97,
   "metadata": {},
   "outputs": [],
   "source": [
    "df_mice.isnull().any();"
   ]
  },
  {
   "cell_type": "code",
   "execution_count": 98,
   "metadata": {},
   "outputs": [],
   "source": [
    "df_mice.apply(lambda x: x.fillna(x.mean()),axis=0);"
   ]
  },
  {
   "cell_type": "code",
   "execution_count": 99,
   "metadata": {},
   "outputs": [],
   "source": [
    "df_mice.isna().any();"
   ]
  },
  {
   "cell_type": "code",
   "execution_count": 100,
   "metadata": {},
   "outputs": [],
   "source": [
    "df_mice.isnull().any();"
   ]
  },
  {
   "cell_type": "code",
   "execution_count": 101,
   "metadata": {},
   "outputs": [],
   "source": [
    "df_mice.fillna(df_mice.mean()).dropna(axis=1, how='all');"
   ]
  },
  {
   "cell_type": "code",
   "execution_count": null,
   "metadata": {},
   "outputs": [],
   "source": []
  },
  {
   "cell_type": "code",
   "execution_count": null,
   "metadata": {},
   "outputs": [],
   "source": []
  },
  {
   "cell_type": "code",
   "execution_count": 79,
   "metadata": {},
   "outputs": [],
   "source": [
    "from sklearn import cluster\n",
    "from scipy.spatial import distance\n",
    "import sklearn.datasets\n",
    "from sklearn.preprocessing import StandardScaler\n",
    "import numpy as np\n",
    "def compute_bic(kmeans,X):\n",
    "    \"\"\"\n",
    "    Computes the BIC metric for a given clusters\n",
    "\n",
    "    Parameters:\n",
    "    -----------------------------------------\n",
    "    kmeans:  List of clustering object from scikit learn\n",
    "\n",
    "    X     :  multidimension np array of data points\n",
    "\n",
    "    Returns:\n",
    "    -----------------------------------------\n",
    "    BIC value\n",
    "    \"\"\"\n",
    "    # assign centers and labels\n",
    "    centers = [kmeans.cluster_centers_]\n",
    "    labels  = kmeans.labels_\n",
    "    #number of clusters\n",
    "    m = kmeans.n_clusters\n",
    "    # size of the clusters\n",
    "    n = np.bincount(labels)\n",
    "    #size of data set\n",
    "    N, d = X.shape\n",
    "\n",
    "    #compute variance for all clusters beforehand\n",
    "    cl_var = (1.0 / (N - m) / d) * sum([sum(distance.cdist(X[np.where(labels == i)], [centers[0][i]], 'euclidean')**2) for i in range(m)])\n",
    "\n",
    "    const_term = 0.5 * m * np.log(N) * (d+1)\n",
    "\n",
    "    BIC = np.sum([n[i] * np.log(n[i]) -\n",
    "               n[i] * np.log(N) -\n",
    "             ((n[i] * d) / 2) * np.log(2*np.pi*cl_var) -\n",
    "             ((n[i] - 1) * d/ 2) for i in range(m)]) - const_term\n",
    "\n",
    "    return(BIC)"
   ]
  },
  {
   "cell_type": "code",
   "execution_count": 139,
   "metadata": {},
   "outputs": [
    {
     "name": "stdout",
     "output_type": "stream",
     "text": [
      "[-37116.49043941939, -35059.112268531644, -34193.50260658188, -33241.530235638566, -32177.490379497776, -31370.220242435505, -30664.435638638726, -30158.044922853962, -29730.04997714758, -29247.272855512983, -28844.607048044483, -28439.09965482951, -28149.23993491574, -27840.210136471407, -27571.31570340576, -27366.60871555613, -27192.866416308065, -26949.90841972102, -26760.970070919113, -26494.669514471847, -26308.66534627843, -26190.042204506983, -26051.178057536014, -25945.86792868472, -25783.238674673757, -25707.32486200265, -25514.298726981182, -25478.61066223592, -25393.75959379435]\n"
     ]
    }
   ],
   "source": [
    "import numpy as np\n",
    "import csv\n",
    "ks = [k for k in range(2, 31)]\n",
    "kmeans_models = [KMeans(n_clusters=k, random_state=1).fit(df_cost.iloc[:, :]) for k in range(2, 31)]\n",
    "#EM_models = [GaussianMixture(n_components=k).fit(df_cost.iloc[:, :]) for k in range(2, 31)]\n",
    "BIC = [compute_bic(kmeansi, df_cost.iloc[:, :11].values) for kmeansi in kmeans_models]\n",
    "#BIC_em = [compute_bic(EM, df_cost.iloc[:, :11].values) for EM in EM_models]\n",
    "diff = []\n",
    "#diff_em = []\n",
    "for i in range(len(BIC) - 1):\n",
    "    if i == 0:\n",
    "        diff.append(0)\n",
    "        #diff_em.append(0)\n",
    "    else:\n",
    "        diff.append(BIC[i + 1] + BIC[i - 1] - 2 * BIC[i])\n",
    "        #diff_em.append(BIC_em[i + 1] + BIC_em[i - 1] - 2 * BIC_em[i])\n",
    "with open(\"BIC_cost.csv\", 'w') as fh:\n",
    "    writer = csv.writer(fh)\n",
    "    writer.writerow(ks)\n",
    "    writer.writerow(BIC)\n",
    "    #writer.writerow(BIC_em)\n",
    "    writer.writerow(diff)\n",
    "    #writer.writerow(diff_em)\n",
    "    \n",
    "print(BIC)"
   ]
  },
  {
   "cell_type": "code",
   "execution_count": 92,
   "metadata": {},
   "outputs": [
    {
     "name": "stdout",
     "output_type": "stream",
     "text": [
      "[-7562.041771844504, 4679.00655019375, 14864.686827368701, 18859.015836224047, 22559.615922619425, 25809.06627358868, 28550.56825104492, 31211.213560769953, 33543.01054345466, 35147.17387283586, 36793.84191425806, 38493.70916672187, 39774.49884103934, 40882.61307203632, 41539.49971702024, 42429.38949765942, 43093.050855042835, 43788.13894996033, 44421.49760329979, 45604.6255503559, 45785.078297828346, 46597.806923478674, 46793.21441417758, 47708.03508050645, 47913.64136419012, 48039.97721131992, 48465.69408599766, 49205.34654614959, 49410.173132307245, 50001.08471351645]\n"
     ]
    }
   ],
   "source": [
    "import numpy as np\n",
    "import csv\n",
    "ks = [k for k in range(1, 31)]\n",
    "kmeans_models = [KMeans(n_clusters=k, random_state=1).fit(df_mice.iloc[:, :]) for k in range(1, 31)]\n",
    "BIC = [compute_bic(kmeansi, df_mice.iloc[:, :].values) for kmeansi in kmeans_models]\n",
    "diff = []\n",
    "for i in range(len(BIC) - 1):\n",
    "    if i == 0:\n",
    "        diff.append(0)\n",
    "    else:\n",
    "        diff.append(BIC[i + 1] + BIC[i - 1] - 2 * BIC[i])\n",
    "with open(\"BIC_mice.csv\", 'w') as fh:\n",
    "    writer = csv.writer(fh)\n",
    "    writer.writerow(ks)\n",
    "    writer.writerow(BIC)\n",
    "    writer.writerow(diff)\n",
    "    \n",
    "print(BIC)"
   ]
  },
  {
   "cell_type": "code",
   "execution_count": 118,
   "metadata": {},
   "outputs": [],
   "source": []
  },
  {
   "cell_type": "code",
   "execution_count": 135,
   "metadata": {},
   "outputs": [
    {
     "name": "stdout",
     "output_type": "stream",
     "text": [
      "0.5105512300935545\n",
      "-0.048312154577882974\n",
      "-0.033284216561751095\n",
      "-0.08501216067550554\n",
      "-0.06452955264176108\n",
      "-0.25920077807475983\n",
      "-0.25125708809834796\n",
      "-0.34349835172106047\n",
      "-0.2798797915483293\n",
      "-0.4260658379467425\n",
      "-0.3923776597325198\n",
      "-0.48826539787392886\n",
      "-0.4937893338692001\n",
      "-0.47696018269005713\n",
      "-0.5229414702008327\n",
      "-0.5358446845092458\n",
      "-0.5152845651638959\n",
      "-0.5675956634818146\n",
      "-0.5703783703871302\n",
      "-0.6143152848633332\n",
      "-0.6129952973806014\n",
      "-0.6171381335029507\n",
      "-0.6526185003283252\n",
      "-0.567262589181826\n",
      "-0.5478762180422967\n",
      "-0.6096401719526018\n",
      "-0.6448451555871382\n",
      "-0.6067872251704468\n",
      "-0.6385692903114817\n"
     ]
    }
   ],
   "source": [
    "from sklearn.metrics.pairwise import euclidean_distances\n",
    "from sklearn.cluster import KMeans\n",
    "from sklearn.metrics import silhouette_score\n",
    "from sklearn.mixture import GaussianMixture\n",
    "ks = [k for k in range(2, 31)]\n",
    "silhouette = []\n",
    "silhouette_em  = []\n",
    "diff = []\n",
    "diff_em = []\n",
    "for k in range(2, 31):\n",
    "    kmeans = KMeans(n_clusters=k).fit_predict(df_cost.iloc[:, :])\n",
    "    EMs = GaussianMixture(n_components=k).fit(df_cost.iloc[:, :]).predict(df_cost.iloc[:, :])\n",
    "    silhouette_avg = silhouette_score(df_cost.iloc[:, :].values, kmeans)\n",
    "    silhouette_avg_em = silhouette_score(df_cost.iloc[:, :].values, EMs)\n",
    "    silhouette.append(silhouette_avg)\n",
    "    silhouette_em.append(silhouette_avg_em)\n",
    "    print(silhouette_avg_em)\n",
    "    \n",
    "for i in range(len(silhouette) - 1):\n",
    "    if i == 0:\n",
    "        diff.append(0)\n",
    "        diff_em.append(0)\n",
    "    else:\n",
    "        diff.append(silhouette[i + 1] + silhouette[i - 1] - 2 * silhouette[i])\n",
    "        diff_em.append(silhouette_em[i + 1] + silhouette_em[i - 1] - 2 * silhouette_em[i])\n",
    "with open(\"silhouette_cost.csv\", 'w') as fh:\n",
    "    writer = csv.writer(fh)\n",
    "    writer.writerow(ks)\n",
    "    writer.writerow(silhouette)\n",
    "    writer.writerow(diff)\n",
    "    writer.writerow(silhouette_em)\n",
    "    writer.writerow(diff_em)"
   ]
  },
  {
   "cell_type": "code",
   "execution_count": 136,
   "metadata": {},
   "outputs": [
    {
     "name": "stdout",
     "output_type": "stream",
     "text": [
      "0.16623135569834027\n",
      "0.20392610959317609\n",
      "0.19082112491855027\n",
      "0.1738844766860365\n",
      "0.15540286645904372\n",
      "0.18211939677204456\n",
      "0.18375050568252888\n",
      "0.1862756775276919\n",
      "0.17823902061236505\n",
      "0.20350170733552334\n",
      "0.18382027799009218\n",
      "0.183224999077796\n",
      "0.19276691590030662\n",
      "0.19066007932432655\n",
      "0.18747242603283873\n",
      "0.19012580723981032\n",
      "0.1901699842010468\n",
      "0.19800804598550673\n",
      "0.19027470837880767\n",
      "0.18278332353684565\n",
      "0.19888914556197979\n",
      "0.19012465960231667\n",
      "0.18493311638551205\n",
      "0.18789918398317468\n",
      "0.17875835358262102\n",
      "0.19900260270030695\n",
      "0.1934359318933604\n",
      "0.1799462870661194\n",
      "0.17292993190891673\n"
     ]
    }
   ],
   "source": [
    "\n",
    "ks = [k for k in range(2, 31)]\n",
    "silhouette = []\n",
    "silhouette_em  = []\n",
    "diff = []\n",
    "diff_em = []\n",
    "for k in range(2, 31):\n",
    "    kmeans = KMeans(n_clusters=k).fit_predict(df_mice.iloc[:, :])\n",
    "    EMs = GaussianMixture(n_components=k).fit(df_mice.iloc[:, :]).predict(df_mice.iloc[:, :])\n",
    "    silhouette_avg = silhouette_score(df_mice.iloc[:, :].values, kmeans)\n",
    "    silhouette_avg_em = silhouette_score(df_mice.iloc[:, :].values, EMs)\n",
    "    silhouette.append(silhouette_avg)\n",
    "    silhouette_em.append(silhouette_avg_em)\n",
    "    print(silhouette_avg_em)\n",
    "    \n",
    "for i in range(len(silhouette) - 1):\n",
    "    if i == 0:\n",
    "        diff.append(0)\n",
    "        diff_em.append(0)\n",
    "    else:\n",
    "        diff.append(silhouette[i + 1] + silhouette[i - 1] - 2 * silhouette[i])\n",
    "        diff_em.append(silhouette_em[i + 1] + silhouette_em[i - 1] - 2 * silhouette_em[i])\n",
    "        \n",
    "with open(\"silhouette_mice.csv\", 'w') as fh:\n",
    "    writer = csv.writer(fh)\n",
    "    writer.writerow(ks)\n",
    "    writer.writerow(silhouette)\n",
    "    writer.writerow(diff)\n",
    "    writer.writerow(silhouette_em)\n",
    "    writer.writerow(diff_em)"
   ]
  },
  {
   "cell_type": "code",
   "execution_count": 116,
   "metadata": {},
   "outputs": [],
   "source": []
  },
  {
   "cell_type": "code",
   "execution_count": null,
   "metadata": {},
   "outputs": [],
   "source": []
  },
  {
   "cell_type": "code",
   "execution_count": null,
   "metadata": {},
   "outputs": [],
   "source": []
  }
 ],
 "metadata": {
  "kernelspec": {
   "display_name": "Python 3",
   "language": "python",
   "name": "python3"
  },
  "language_info": {
   "codemirror_mode": {
    "name": "ipython",
    "version": 3
   },
   "file_extension": ".py",
   "mimetype": "text/x-python",
   "name": "python",
   "nbconvert_exporter": "python",
   "pygments_lexer": "ipython3",
   "version": "3.6.5"
  }
 },
 "nbformat": 4,
 "nbformat_minor": 2
}
